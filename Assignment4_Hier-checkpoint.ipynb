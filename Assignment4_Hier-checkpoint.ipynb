{
 "cells": [
  {
   "cell_type": "code",
   "execution_count": 1,
   "metadata": {},
   "outputs": [
    {
     "name": "stdout",
     "output_type": "stream",
     "text": [
      "Requirement already satisfied: numpy in c:\\users\\taram\\appdata\\local\\programs\\python\\python37-32\\lib\\site-packages (1.16.0)\n"
     ]
    },
    {
     "name": "stderr",
     "output_type": "stream",
     "text": [
      "You are using pip version 19.0.2, however version 19.0.3 is available.\n",
      "You should consider upgrading via the 'python -m pip install --upgrade pip' command.\n"
     ]
    },
    {
     "name": "stdout",
     "output_type": "stream",
     "text": [
      "Requirement already satisfied: pandas in c:\\users\\taram\\appdata\\local\\programs\\python\\python37-32\\lib\\site-packages (0.23.4)\n",
      "Requirement already satisfied: pytz>=2011k in c:\\users\\taram\\appdata\\local\\programs\\python\\python37-32\\lib\\site-packages (from pandas) (2018.9)\n",
      "Requirement already satisfied: numpy>=1.9.0 in c:\\users\\taram\\appdata\\local\\programs\\python\\python37-32\\lib\\site-packages (from pandas) (1.16.0)\n",
      "Requirement already satisfied: python-dateutil>=2.5.0 in c:\\users\\taram\\appdata\\local\\programs\\python\\python37-32\\lib\\site-packages (from pandas) (2.7.5)\n",
      "Requirement already satisfied: six>=1.5 in c:\\users\\taram\\appdata\\local\\programs\\python\\python37-32\\lib\\site-packages (from python-dateutil>=2.5.0->pandas) (1.12.0)\n"
     ]
    },
    {
     "name": "stderr",
     "output_type": "stream",
     "text": [
      "You are using pip version 19.0.2, however version 19.0.3 is available.\n",
      "You should consider upgrading via the 'python -m pip install --upgrade pip' command.\n"
     ]
    },
    {
     "name": "stdout",
     "output_type": "stream",
     "text": [
      "Requirement already satisfied: seaborn in c:\\users\\taram\\appdata\\local\\programs\\python\\python37-32\\lib\\site-packages (0.9.0)\n",
      "Requirement already satisfied: matplotlib>=1.4.3 in c:\\users\\taram\\appdata\\local\\programs\\python\\python37-32\\lib\\site-packages (from seaborn) (3.0.2)\n",
      "Requirement already satisfied: numpy>=1.9.3 in c:\\users\\taram\\appdata\\local\\programs\\python\\python37-32\\lib\\site-packages (from seaborn) (1.16.0)\n",
      "Requirement already satisfied: pandas>=0.15.2 in c:\\users\\taram\\appdata\\local\\programs\\python\\python37-32\\lib\\site-packages (from seaborn) (0.23.4)\n",
      "Requirement already satisfied: scipy>=0.14.0 in c:\\users\\taram\\appdata\\local\\programs\\python\\python37-32\\lib\\site-packages (from seaborn) (1.2.0)\n",
      "Requirement already satisfied: python-dateutil>=2.1 in c:\\users\\taram\\appdata\\local\\programs\\python\\python37-32\\lib\\site-packages (from matplotlib>=1.4.3->seaborn) (2.7.5)\n",
      "Requirement already satisfied: kiwisolver>=1.0.1 in c:\\users\\taram\\appdata\\local\\programs\\python\\python37-32\\lib\\site-packages (from matplotlib>=1.4.3->seaborn) (1.0.1)\n",
      "Requirement already satisfied: pyparsing!=2.0.4,!=2.1.2,!=2.1.6,>=2.0.1 in c:\\users\\taram\\appdata\\local\\programs\\python\\python37-32\\lib\\site-packages (from matplotlib>=1.4.3->seaborn) (2.3.1)\n",
      "Requirement already satisfied: cycler>=0.10 in c:\\users\\taram\\appdata\\local\\programs\\python\\python37-32\\lib\\site-packages (from matplotlib>=1.4.3->seaborn) (0.10.0)\n",
      "Requirement already satisfied: pytz>=2011k in c:\\users\\taram\\appdata\\local\\programs\\python\\python37-32\\lib\\site-packages (from pandas>=0.15.2->seaborn) (2018.9)\n",
      "Requirement already satisfied: six>=1.5 in c:\\users\\taram\\appdata\\local\\programs\\python\\python37-32\\lib\\site-packages (from python-dateutil>=2.1->matplotlib>=1.4.3->seaborn) (1.12.0)\n",
      "Requirement already satisfied: setuptools in c:\\users\\taram\\appdata\\local\\programs\\python\\python37-32\\lib\\site-packages (from kiwisolver>=1.0.1->matplotlib>=1.4.3->seaborn) (40.6.2)\n"
     ]
    },
    {
     "name": "stderr",
     "output_type": "stream",
     "text": [
      "You are using pip version 19.0.2, however version 19.0.3 is available.\n",
      "You should consider upgrading via the 'python -m pip install --upgrade pip' command.\n"
     ]
    },
    {
     "name": "stdout",
     "output_type": "stream",
     "text": [
      "Requirement already satisfied: matplotlib in c:\\users\\taram\\appdata\\local\\programs\\python\\python37-32\\lib\\site-packages (3.0.2)\n",
      "Requirement already satisfied: kiwisolver>=1.0.1 in c:\\users\\taram\\appdata\\local\\programs\\python\\python37-32\\lib\\site-packages (from matplotlib) (1.0.1)\n",
      "Requirement already satisfied: cycler>=0.10 in c:\\users\\taram\\appdata\\local\\programs\\python\\python37-32\\lib\\site-packages (from matplotlib) (0.10.0)\n",
      "Requirement already satisfied: numpy>=1.10.0 in c:\\users\\taram\\appdata\\local\\programs\\python\\python37-32\\lib\\site-packages (from matplotlib) (1.16.0)\n",
      "Requirement already satisfied: python-dateutil>=2.1 in c:\\users\\taram\\appdata\\local\\programs\\python\\python37-32\\lib\\site-packages (from matplotlib) (2.7.5)\n",
      "Requirement already satisfied: pyparsing!=2.0.4,!=2.1.2,!=2.1.6,>=2.0.1 in c:\\users\\taram\\appdata\\local\\programs\\python\\python37-32\\lib\\site-packages (from matplotlib) (2.3.1)\n",
      "Requirement already satisfied: setuptools in c:\\users\\taram\\appdata\\local\\programs\\python\\python37-32\\lib\\site-packages (from kiwisolver>=1.0.1->matplotlib) (40.6.2)\n",
      "Requirement already satisfied: six in c:\\users\\taram\\appdata\\local\\programs\\python\\python37-32\\lib\\site-packages (from cycler>=0.10->matplotlib) (1.12.0)\n"
     ]
    },
    {
     "name": "stderr",
     "output_type": "stream",
     "text": [
      "You are using pip version 19.0.2, however version 19.0.3 is available.\n",
      "You should consider upgrading via the 'python -m pip install --upgrade pip' command.\n"
     ]
    },
    {
     "name": "stdout",
     "output_type": "stream",
     "text": [
      "Requirement already satisfied: xlrd in c:\\users\\taram\\appdata\\local\\programs\\python\\python37-32\\lib\\site-packages (1.2.0)\n"
     ]
    },
    {
     "name": "stderr",
     "output_type": "stream",
     "text": [
      "You are using pip version 19.0.2, however version 19.0.3 is available.\n",
      "You should consider upgrading via the 'python -m pip install --upgrade pip' command.\n"
     ]
    },
    {
     "name": "stdout",
     "output_type": "stream",
     "text": [
      "Requirement already satisfied: sklearn in c:\\users\\taram\\appdata\\local\\programs\\python\\python37-32\\lib\\site-packages (0.0)\n",
      "Requirement already satisfied: scikit-learn in c:\\users\\taram\\appdata\\local\\programs\\python\\python37-32\\lib\\site-packages (from sklearn) (0.20.2)\n",
      "Requirement already satisfied: scipy>=0.13.3 in c:\\users\\taram\\appdata\\local\\programs\\python\\python37-32\\lib\\site-packages (from scikit-learn->sklearn) (1.2.0)\n",
      "Requirement already satisfied: numpy>=1.8.2 in c:\\users\\taram\\appdata\\local\\programs\\python\\python37-32\\lib\\site-packages (from scikit-learn->sklearn) (1.16.0)\n"
     ]
    },
    {
     "name": "stderr",
     "output_type": "stream",
     "text": [
      "You are using pip version 19.0.2, however version 19.0.3 is available.\n",
      "You should consider upgrading via the 'python -m pip install --upgrade pip' command.\n"
     ]
    },
    {
     "name": "stdout",
     "output_type": "stream",
     "text": [
      "Requirement already satisfied: statsmodels in c:\\users\\taram\\appdata\\local\\programs\\python\\python37-32\\lib\\site-packages (0.9.0)\n",
      "Requirement already satisfied: pandas in c:\\users\\taram\\appdata\\local\\programs\\python\\python37-32\\lib\\site-packages (from statsmodels) (0.23.4)\n",
      "Requirement already satisfied: patsy in c:\\users\\taram\\appdata\\local\\programs\\python\\python37-32\\lib\\site-packages (from statsmodels) (0.5.1)\n",
      "Requirement already satisfied: numpy>=1.9.0 in c:\\users\\taram\\appdata\\local\\programs\\python\\python37-32\\lib\\site-packages (from pandas->statsmodels) (1.16.0)\n",
      "Requirement already satisfied: pytz>=2011k in c:\\users\\taram\\appdata\\local\\programs\\python\\python37-32\\lib\\site-packages (from pandas->statsmodels) (2018.9)\n",
      "Requirement already satisfied: python-dateutil>=2.5.0 in c:\\users\\taram\\appdata\\local\\programs\\python\\python37-32\\lib\\site-packages (from pandas->statsmodels) (2.7.5)\n",
      "Requirement already satisfied: six in c:\\users\\taram\\appdata\\local\\programs\\python\\python37-32\\lib\\site-packages (from patsy->statsmodels) (1.12.0)\n"
     ]
    },
    {
     "name": "stderr",
     "output_type": "stream",
     "text": [
      "You are using pip version 19.0.2, however version 19.0.3 is available.\n",
      "You should consider upgrading via the 'python -m pip install --upgrade pip' command.\n"
     ]
    },
    {
     "name": "stdout",
     "output_type": "stream",
     "text": [
      "Collecting xgboost\n",
      "  Using cached https://files.pythonhosted.org/packages/2e/bd/ad3a963b630fa3ee72d1a672fd207263fa0a18113688273afe8298293535/xgboost-0.82.tar.gz\n"
     ]
    },
    {
     "name": "stderr",
     "output_type": "stream",
     "text": [
      "Files/directories not found in C:\\Users\\taram\\AppData\\Local\\Temp\\pip-install-pbek_bk3\\xgboost\\pip-egg-info\n",
      "You are using pip version 19.0.2, however version 19.0.3 is available.\n",
      "You should consider upgrading via the 'python -m pip install --upgrade pip' command.\n"
     ]
    },
    {
     "name": "stdout",
     "output_type": "stream",
     "text": [
      "Requirement already satisfied: plotly in c:\\users\\taram\\appdata\\local\\programs\\python\\python37-32\\lib\\site-packages (3.7.1)\n",
      "Requirement already satisfied: nbformat>=4.2 in c:\\users\\taram\\appdata\\local\\programs\\python\\python37-32\\lib\\site-packages (from plotly) (4.4.0)\n",
      "Requirement already satisfied: six in c:\\users\\taram\\appdata\\local\\programs\\python\\python37-32\\lib\\site-packages (from plotly) (1.12.0)\n",
      "Requirement already satisfied: decorator>=4.0.6 in c:\\users\\taram\\appdata\\local\\programs\\python\\python37-32\\lib\\site-packages (from plotly) (4.3.0)\n",
      "Requirement already satisfied: requests in c:\\users\\taram\\appdata\\local\\programs\\python\\python37-32\\lib\\site-packages (from plotly) (2.21.0)\n",
      "Requirement already satisfied: pytz in c:\\users\\taram\\appdata\\local\\programs\\python\\python37-32\\lib\\site-packages (from plotly) (2018.9)\n",
      "Requirement already satisfied: retrying>=1.3.3 in c:\\users\\taram\\appdata\\local\\programs\\python\\python37-32\\lib\\site-packages (from plotly) (1.3.3)\n",
      "Requirement already satisfied: jupyter-core in c:\\users\\taram\\appdata\\local\\programs\\python\\python37-32\\lib\\site-packages (from nbformat>=4.2->plotly) (4.4.0)\n",
      "Requirement already satisfied: ipython-genutils in c:\\users\\taram\\appdata\\local\\programs\\python\\python37-32\\lib\\site-packages (from nbformat>=4.2->plotly) (0.2.0)\n",
      "Requirement already satisfied: jsonschema!=2.5.0,>=2.4 in c:\\users\\taram\\appdata\\local\\programs\\python\\python37-32\\lib\\site-packages (from nbformat>=4.2->plotly) (2.6.0)\n",
      "Requirement already satisfied: traitlets>=4.1 in c:\\users\\taram\\appdata\\local\\programs\\python\\python37-32\\lib\\site-packages (from nbformat>=4.2->plotly) (4.3.2)\n",
      "Requirement already satisfied: idna<2.9,>=2.5 in c:\\users\\taram\\appdata\\local\\programs\\python\\python37-32\\lib\\site-packages (from requests->plotly) (2.8)\n",
      "Requirement already satisfied: chardet<3.1.0,>=3.0.2 in c:\\users\\taram\\appdata\\local\\programs\\python\\python37-32\\lib\\site-packages (from requests->plotly) (3.0.4)\n",
      "Requirement already satisfied: certifi>=2017.4.17 in c:\\users\\taram\\appdata\\local\\programs\\python\\python37-32\\lib\\site-packages (from requests->plotly) (2019.3.9)\n",
      "Requirement already satisfied: urllib3<1.25,>=1.21.1 in c:\\users\\taram\\appdata\\local\\programs\\python\\python37-32\\lib\\site-packages (from requests->plotly) (1.24.1)\n"
     ]
    },
    {
     "name": "stderr",
     "output_type": "stream",
     "text": [
      "You are using pip version 19.0.2, however version 19.0.3 is available.\n",
      "You should consider upgrading via the 'python -m pip install --upgrade pip' command.\n"
     ]
    }
   ],
   "source": [
    "# Install a pip package in the current Jupyter kernel\n",
    "import sys\n",
    "!{sys.executable} -m pip install numpy\n",
    "!{sys.executable} -m pip install pandas\n",
    "!{sys.executable} -m pip install seaborn\n",
    "!{sys.executable} -m pip install matplotlib\n",
    "!{sys.executable} -m pip install xlrd\n",
    "!{sys.executable} -m pip install sklearn\n",
    "!{sys.executable} -m pip install statsmodels \n",
    "!{sys.executable} -m pip install xgboost\n",
    "!{sys.executable} -m pip install plotly\n",
    "\n",
    "import numpy as np\n",
    "import pandas as pd\n",
    "import seaborn as sns\n",
    "import matplotlib.pyplot as plt\n",
    "import sklearn.linear_model as lm\n",
    "import statsmodels.api as sm\n",
    "import statsmodels.formula.api as smf\n",
    "import plotly.plotly as py\n",
    "import mpl_toolkits.mplot3d.axes3d as p3\n",
    "from sklearn.metrics import davies_bouldin_score\n",
    "from sklearn import metrics\n",
    "from sklearn import datasets, linear_model\n",
    "from sklearn.metrics import mean_squared_error, r2_score\n",
    "from sklearn.linear_model import (LinearRegression, Ridge, Lasso, RandomizedLasso)\n",
    "from sklearn.linear_model import LogisticRegression\n",
    "from sklearn.naive_bayes import GaussianNB\n",
    "from sklearn.naive_bayes import MultinomialNB\n",
    "from sklearn.metrics import accuracy_score\n",
    "from sklearn.preprocessing import StandardScaler\n",
    "from sklearn.decomposition import PCA\n",
    "from sklearn.preprocessing import MinMaxScaler\n",
    "from sklearn import cluster\n",
    "from scipy.cluster.hierarchy import dendrogram, linkage\n",
    "from sklearn.cluster import AgglomerativeClustering\n",
    "from mpl_toolkits.mplot3d import Axes3D\n",
    "from sklearn.cluster import DBSCAN\n",
    "from sklearn import metrics\n",
    "from sklearn.datasets.samples_generator import make_blobs\n",
    "from sklearn.preprocessing import StandardScaler\n",
    "from sklearn.ensemble import BaggingRegressor\n",
    "from sklearn.ensemble import RandomForestRegressor\n",
    "from sklearn.ensemble import AdaBoostRegressor\n",
    "from sklearn.ensemble import GradientBoostingRegressor\n",
    "from sklearn.linear_model import LinearRegression\n",
    "from sklearn.feature_selection import RFE, f_regression\n",
    "from sklearn import datasets\n",
    "\n",
    "#plt.rcParams['figure.figsize']=(20,12)\n",
    "\n",
    "%matplotlib inline"
   ]
  },
  {
   "cell_type": "code",
   "execution_count": 96,
   "metadata": {},
   "outputs": [
    {
     "data": {
      "text/html": [
       "<div>\n",
       "<style scoped>\n",
       "    .dataframe tbody tr th:only-of-type {\n",
       "        vertical-align: middle;\n",
       "    }\n",
       "\n",
       "    .dataframe tbody tr th {\n",
       "        vertical-align: top;\n",
       "    }\n",
       "\n",
       "    .dataframe thead th {\n",
       "        text-align: right;\n",
       "    }\n",
       "</style>\n",
       "<table border=\"1\" class=\"dataframe\">\n",
       "  <thead>\n",
       "    <tr style=\"text-align: right;\">\n",
       "      <th></th>\n",
       "      <th>TripTime(min)</th>\n",
       "      <th>Lost SOC (%)</th>\n",
       "      <th>TEL_AVG_VELOCITY</th>\n",
       "      <th>AC_ON_DURATION(min)</th>\n",
       "      <th>HEADLAMP_ON_DURATION(min)</th>\n",
       "      <th>Total Charge Time (min)</th>\n",
       "      <th>CHARGE_AMOUNT (Wh)</th>\n",
       "      <th>END_ODO_ACTUAL</th>\n",
       "      <th>TRIP_DISTANCE(km)</th>\n",
       "      <th>PricePercentile</th>\n",
       "    </tr>\n",
       "  </thead>\n",
       "  <tbody>\n",
       "    <tr>\n",
       "      <th>0</th>\n",
       "      <td>36.835000</td>\n",
       "      <td>34</td>\n",
       "      <td>55.14</td>\n",
       "      <td>36.83</td>\n",
       "      <td>0.00</td>\n",
       "      <td>20.0</td>\n",
       "      <td>4129</td>\n",
       "      <td>12427</td>\n",
       "      <td>34</td>\n",
       "      <td>0.198817</td>\n",
       "    </tr>\n",
       "    <tr>\n",
       "      <th>1</th>\n",
       "      <td>37.383333</td>\n",
       "      <td>30</td>\n",
       "      <td>50.27</td>\n",
       "      <td>19.00</td>\n",
       "      <td>0.00</td>\n",
       "      <td>30.0</td>\n",
       "      <td>4765</td>\n",
       "      <td>12458</td>\n",
       "      <td>30</td>\n",
       "      <td>0.284024</td>\n",
       "    </tr>\n",
       "    <tr>\n",
       "      <th>2</th>\n",
       "      <td>13.251667</td>\n",
       "      <td>10</td>\n",
       "      <td>23.08</td>\n",
       "      <td>13.25</td>\n",
       "      <td>0.00</td>\n",
       "      <td>20.0</td>\n",
       "      <td>2834</td>\n",
       "      <td>10172</td>\n",
       "      <td>5</td>\n",
       "      <td>0.102959</td>\n",
       "    </tr>\n",
       "    <tr>\n",
       "      <th>3</th>\n",
       "      <td>22.916667</td>\n",
       "      <td>21</td>\n",
       "      <td>39.13</td>\n",
       "      <td>14.73</td>\n",
       "      <td>16.77</td>\n",
       "      <td>30.0</td>\n",
       "      <td>15103</td>\n",
       "      <td>27727</td>\n",
       "      <td>15</td>\n",
       "      <td>0.969231</td>\n",
       "    </tr>\n",
       "    <tr>\n",
       "      <th>4</th>\n",
       "      <td>7.985000</td>\n",
       "      <td>3</td>\n",
       "      <td>15.00</td>\n",
       "      <td>7.98</td>\n",
       "      <td>0.00</td>\n",
       "      <td>10.0</td>\n",
       "      <td>1977</td>\n",
       "      <td>13276</td>\n",
       "      <td>2</td>\n",
       "      <td>0.052071</td>\n",
       "    </tr>\n",
       "  </tbody>\n",
       "</table>\n",
       "</div>"
      ],
      "text/plain": [
       "   TripTime(min)  Lost SOC (%)   TEL_AVG_VELOCITY   AC_ON_DURATION(min)  \\\n",
       "0      36.835000            34              55.14                 36.83   \n",
       "1      37.383333            30              50.27                 19.00   \n",
       "2      13.251667            10              23.08                 13.25   \n",
       "3      22.916667            21              39.13                 14.73   \n",
       "4       7.985000             3              15.00                  7.98   \n",
       "\n",
       "    HEADLAMP_ON_DURATION(min)  Total Charge Time (min)   CHARGE_AMOUNT (Wh)  \\\n",
       "0                        0.00                     20.0                 4129   \n",
       "1                        0.00                     30.0                 4765   \n",
       "2                        0.00                     20.0                 2834   \n",
       "3                       16.77                     30.0                15103   \n",
       "4                        0.00                     10.0                 1977   \n",
       "\n",
       "    END_ODO_ACTUAL   TRIP_DISTANCE(km)  PricePercentile  \n",
       "0            12427                  34         0.198817  \n",
       "1            12458                  30         0.284024  \n",
       "2            10172                   5         0.102959  \n",
       "3            27727                  15         0.969231  \n",
       "4            13276                   2         0.052071  "
      ]
     },
     "execution_count": 96,
     "metadata": {},
     "output_type": "execute_result"
    }
   ],
   "source": [
    "#read in raw data\n",
    "KW = pd.read_excel(r\"C:\\Users\\taram\\Desktop\\Assignment3Datab.xlsx\")\n",
    "#KW = KW.plot.scatter(x='Percent Lost SOC',y=' CHARGE_AMOUNT (Wh)',figsize=(8,6))\n",
    "#KW = KW.plot.scatter(x=' AC_ON_DURATION',y='Percent Lost SOC',figsize=(8,6))\n",
    "#KW = KW.plot.scatter(x=' HEADLAMP_ON_DURATION',y='Percent Lost SOC',figsize=(8,6))\n",
    "BS = KW.drop([' CALENDAR_KEY',' VEHICLE_ID', ' FULLCHARGEFLAG'], axis =1)\n",
    "BS = BS.drop(columns='Percentile')\n",
    "# BS = BS.drop([' TEL_AVG_VELOCITY',\n",
    "#  ' AC_ON_DURATION(min)',\n",
    "#  ' HEADLAMP_ON_DURATION(min)',\n",
    "#  'Total Charge Time (min)',\n",
    "#  ' CHARGE_AMOUNT (Wh)',\n",
    "#  ' END_ODO_ACTUAL',\n",
    "#  ' TRIP_DISTANCE(km)'], axis =1)\n",
    "BS.head()"
   ]
  },
  {
   "cell_type": "code",
   "execution_count": 97,
   "metadata": {},
   "outputs": [
    {
     "data": {
      "image/png": "[encoded data removed]",
      "text/plain": [
       "<Figure size 1440x864 with 1 Axes>"
      ]
     },
     "metadata": {
      "needs_background": "light"
     },
     "output_type": "display_data"
    }
   ],
   "source": [
    "z = linkage(BS,'ward')\n",
    "r=dendrogram(z,leaf_rotation=90)\n",
    "hierarchy = AgglomerativeClustering(n_clusters=6,linkage='ward').fit(BS.iloc[:,:-1])"
   ]
  },
  {
   "cell_type": "code",
   "execution_count": 101,
   "metadata": {},
   "outputs": [
    {
     "data": {
      "text/html": [
       "<div>\n",
       "<style scoped>\n",
       "    .dataframe tbody tr th:only-of-type {\n",
       "        vertical-align: middle;\n",
       "    }\n",
       "\n",
       "    .dataframe tbody tr th {\n",
       "        vertical-align: top;\n",
       "    }\n",
       "\n",
       "    .dataframe thead th {\n",
       "        text-align: right;\n",
       "    }\n",
       "</style>\n",
       "<table border=\"1\" class=\"dataframe\">\n",
       "  <thead>\n",
       "    <tr style=\"text-align: right;\">\n",
       "      <th></th>\n",
       "      <th>TripTime(min)</th>\n",
       "      <th>Lost SOC (%)</th>\n",
       "      <th>TEL_AVG_VELOCITY</th>\n",
       "      <th>AC_ON_DURATION(min)</th>\n",
       "      <th>HEADLAMP_ON_DURATION(min)</th>\n",
       "      <th>Total Charge Time (min)</th>\n",
       "      <th>CHARGE_AMOUNT (Wh)</th>\n",
       "      <th>END_ODO_ACTUAL</th>\n",
       "      <th>TRIP_DISTANCE(km)</th>\n",
       "      <th>PricePercentile</th>\n",
       "      <th>label_h</th>\n",
       "      <th>freq</th>\n",
       "    </tr>\n",
       "  </thead>\n",
       "  <tbody>\n",
       "    <tr>\n",
       "      <th>0</th>\n",
       "      <td>36.835000</td>\n",
       "      <td>34</td>\n",
       "      <td>55.14</td>\n",
       "      <td>36.83</td>\n",
       "      <td>0.00</td>\n",
       "      <td>20.0</td>\n",
       "      <td>4129</td>\n",
       "      <td>12427</td>\n",
       "      <td>34</td>\n",
       "      <td>0.198817</td>\n",
       "      <td>2</td>\n",
       "      <td>228</td>\n",
       "    </tr>\n",
       "    <tr>\n",
       "      <th>1</th>\n",
       "      <td>37.383333</td>\n",
       "      <td>30</td>\n",
       "      <td>50.27</td>\n",
       "      <td>19.00</td>\n",
       "      <td>0.00</td>\n",
       "      <td>30.0</td>\n",
       "      <td>4765</td>\n",
       "      <td>12458</td>\n",
       "      <td>30</td>\n",
       "      <td>0.284024</td>\n",
       "      <td>2</td>\n",
       "      <td>228</td>\n",
       "    </tr>\n",
       "    <tr>\n",
       "      <th>2</th>\n",
       "      <td>13.251667</td>\n",
       "      <td>10</td>\n",
       "      <td>23.08</td>\n",
       "      <td>13.25</td>\n",
       "      <td>0.00</td>\n",
       "      <td>20.0</td>\n",
       "      <td>2834</td>\n",
       "      <td>10172</td>\n",
       "      <td>5</td>\n",
       "      <td>0.102959</td>\n",
       "      <td>2</td>\n",
       "      <td>228</td>\n",
       "    </tr>\n",
       "    <tr>\n",
       "      <th>3</th>\n",
       "      <td>22.916667</td>\n",
       "      <td>21</td>\n",
       "      <td>39.13</td>\n",
       "      <td>14.73</td>\n",
       "      <td>16.77</td>\n",
       "      <td>30.0</td>\n",
       "      <td>15103</td>\n",
       "      <td>27727</td>\n",
       "      <td>15</td>\n",
       "      <td>0.969231</td>\n",
       "      <td>1</td>\n",
       "      <td>105</td>\n",
       "    </tr>\n",
       "    <tr>\n",
       "      <th>4</th>\n",
       "      <td>7.985000</td>\n",
       "      <td>3</td>\n",
       "      <td>15.00</td>\n",
       "      <td>7.98</td>\n",
       "      <td>0.00</td>\n",
       "      <td>10.0</td>\n",
       "      <td>1977</td>\n",
       "      <td>13276</td>\n",
       "      <td>2</td>\n",
       "      <td>0.052071</td>\n",
       "      <td>2</td>\n",
       "      <td>228</td>\n",
       "    </tr>\n",
       "  </tbody>\n",
       "</table>\n",
       "</div>"
      ],
      "text/plain": [
       "   TripTime(min)  Lost SOC (%)   TEL_AVG_VELOCITY   AC_ON_DURATION(min)  \\\n",
       "0      36.835000            34              55.14                 36.83   \n",
       "1      37.383333            30              50.27                 19.00   \n",
       "2      13.251667            10              23.08                 13.25   \n",
       "3      22.916667            21              39.13                 14.73   \n",
       "4       7.985000             3              15.00                  7.98   \n",
       "\n",
       "    HEADLAMP_ON_DURATION(min)  Total Charge Time (min)   CHARGE_AMOUNT (Wh)  \\\n",
       "0                        0.00                     20.0                 4129   \n",
       "1                        0.00                     30.0                 4765   \n",
       "2                        0.00                     20.0                 2834   \n",
       "3                       16.77                     30.0                15103   \n",
       "4                        0.00                     10.0                 1977   \n",
       "\n",
       "    END_ODO_ACTUAL   TRIP_DISTANCE(km)  PricePercentile  label_h  freq  \n",
       "0            12427                  34         0.198817        2   228  \n",
       "1            12458                  30         0.284024        2   228  \n",
       "2            10172                   5         0.102959        2   228  \n",
       "3            27727                  15         0.969231        1   105  \n",
       "4            13276                   2         0.052071        2   228  "
      ]
     },
     "execution_count": 101,
     "metadata": {},
     "output_type": "execute_result"
    }
   ],
   "source": [
    "BS['label_h'] = hierarchy.labels_\n",
    "BS['freq'] = BS.groupby('label_h')['label_h'].transform('count')\n",
    "BS.head()"
   ]
  },
  {
   "cell_type": "code",
   "execution_count": 102,
   "metadata": {},
   "outputs": [
    {
     "data": {
      "text/plain": [
       "label_h\n",
       "2    228\n",
       "1    105\n",
       "0    236\n",
       "5     84\n",
       "4      1\n",
       "3      1\n",
       "Name: freq, dtype: int64"
      ]
     },
     "execution_count": 102,
     "metadata": {},
     "output_type": "execute_result"
    }
   ],
   "source": [
    "BS.groupby(['label_h'], sort=False)['freq'].max()"
   ]
  },
  {
   "cell_type": "code",
   "execution_count": 104,
   "metadata": {},
   "outputs": [
    {
     "name": "stdout",
     "output_type": "stream",
     "text": [
      "        END_ODO_ACTUAL  Total Charge Time (min)   HEADLAMP_ON_DURATION(min)  \\\n",
      "count       105.000000               105.000000                  105.000000   \n",
      "mean      25970.685714                23.676190                    6.991333   \n",
      "std        6221.987495                12.582417                   14.600023   \n",
      "min       19304.000000                 2.000000                    0.000000   \n",
      "25%       22459.000000                10.000000                    0.000000   \n",
      "50%       24763.000000                20.000000                    0.000000   \n",
      "75%       28125.000000                30.000000                   10.220000   \n",
      "max       62816.000000                52.000000                   96.120000   \n",
      "\n",
      "        CHARGE_AMOUNT (Wh)   AC_ON_DURATION(min)  PricePercentile  \\\n",
      "count           105.000000            105.000000       105.000000   \n",
      "mean           8745.314286              4.347810         0.587388   \n",
      "std            3654.596467              9.442673         0.250178   \n",
      "min             819.000000              0.000000         0.009467   \n",
      "25%            6795.000000              0.000000         0.457988   \n",
      "50%            9083.000000              0.000000         0.639053   \n",
      "75%           11000.000000              4.630000         0.792899   \n",
      "max           23647.000000             49.350000         0.991716   \n",
      "\n",
      "        TEL_AVG_VELOCITY  \n",
      "count         105.000000  \n",
      "mean           32.628762  \n",
      "std            10.665976  \n",
      "min             8.570000  \n",
      "25%            24.000000  \n",
      "50%            32.090000  \n",
      "75%            39.050000  \n",
      "max            63.330000  \n"
     ]
    }
   ],
   "source": [
    "BS = BS.loc[BS['label_h'] == 1]\n",
    "print(BS.loc[:,{\"PricePercentile\",\" TEL_AVG_VELOCITY\", ' AC_ON_DURATION(min)',\n",
    " ' HEADLAMP_ON_DURATION(min)',\n",
    " 'Total Charge Time (min)',\n",
    " ' CHARGE_AMOUNT (Wh)',\n",
    " ' END_ODO_ACTUAL'},\n",
    " ].describe())\n"
   ]
  },
  {
   "cell_type": "code",
   "execution_count": 83,
   "metadata": {},
   "outputs": [
    {
     "data": {
      "text/html": [
       "<div>\n",
       "<style scoped>\n",
       "    .dataframe tbody tr th:only-of-type {\n",
       "        vertical-align: middle;\n",
       "    }\n",
       "\n",
       "    .dataframe tbody tr th {\n",
       "        vertical-align: top;\n",
       "    }\n",
       "\n",
       "    .dataframe thead th {\n",
       "        text-align: right;\n",
       "    }\n",
       "</style>\n",
       "<table border=\"1\" class=\"dataframe\">\n",
       "  <thead>\n",
       "    <tr style=\"text-align: right;\">\n",
       "      <th></th>\n",
       "      <th>TripTime(min)</th>\n",
       "      <th>Lost SOC (%)</th>\n",
       "      <th>TEL_AVG_VELOCITY</th>\n",
       "      <th>AC_ON_DURATION(min)</th>\n",
       "      <th>HEADLAMP_ON_DURATION(min)</th>\n",
       "      <th>Total Charge Time (min)</th>\n",
       "      <th>CHARGE_AMOUNT (Wh)</th>\n",
       "      <th>END_ODO_ACTUAL</th>\n",
       "      <th>TRIP_DISTANCE(km)</th>\n",
       "      <th>PricePercentile</th>\n",
       "      <th>label_h</th>\n",
       "    </tr>\n",
       "  </thead>\n",
       "  <tbody>\n",
       "    <tr>\n",
       "      <th>0</th>\n",
       "      <td>36.835000</td>\n",
       "      <td>34</td>\n",
       "      <td>55.14</td>\n",
       "      <td>36.83</td>\n",
       "      <td>0.00</td>\n",
       "      <td>20.0</td>\n",
       "      <td>4129</td>\n",
       "      <td>12427</td>\n",
       "      <td>34</td>\n",
       "      <td>0.198817</td>\n",
       "      <td>2</td>\n",
       "    </tr>\n",
       "    <tr>\n",
       "      <th>1</th>\n",
       "      <td>37.383333</td>\n",
       "      <td>30</td>\n",
       "      <td>50.27</td>\n",
       "      <td>19.00</td>\n",
       "      <td>0.00</td>\n",
       "      <td>30.0</td>\n",
       "      <td>4765</td>\n",
       "      <td>12458</td>\n",
       "      <td>30</td>\n",
       "      <td>0.284024</td>\n",
       "      <td>2</td>\n",
       "    </tr>\n",
       "    <tr>\n",
       "      <th>2</th>\n",
       "      <td>13.251667</td>\n",
       "      <td>10</td>\n",
       "      <td>23.08</td>\n",
       "      <td>13.25</td>\n",
       "      <td>0.00</td>\n",
       "      <td>20.0</td>\n",
       "      <td>2834</td>\n",
       "      <td>10172</td>\n",
       "      <td>5</td>\n",
       "      <td>0.102959</td>\n",
       "      <td>2</td>\n",
       "    </tr>\n",
       "    <tr>\n",
       "      <th>3</th>\n",
       "      <td>22.916667</td>\n",
       "      <td>21</td>\n",
       "      <td>39.13</td>\n",
       "      <td>14.73</td>\n",
       "      <td>16.77</td>\n",
       "      <td>30.0</td>\n",
       "      <td>15103</td>\n",
       "      <td>27727</td>\n",
       "      <td>15</td>\n",
       "      <td>0.969231</td>\n",
       "      <td>1</td>\n",
       "    </tr>\n",
       "    <tr>\n",
       "      <th>4</th>\n",
       "      <td>7.985000</td>\n",
       "      <td>3</td>\n",
       "      <td>15.00</td>\n",
       "      <td>7.98</td>\n",
       "      <td>0.00</td>\n",
       "      <td>10.0</td>\n",
       "      <td>1977</td>\n",
       "      <td>13276</td>\n",
       "      <td>2</td>\n",
       "      <td>0.052071</td>\n",
       "      <td>2</td>\n",
       "    </tr>\n",
       "  </tbody>\n",
       "</table>\n",
       "</div>"
      ],
      "text/plain": [
       "   TripTime(min)  Lost SOC (%)   TEL_AVG_VELOCITY   AC_ON_DURATION(min)  \\\n",
       "0      36.835000            34              55.14                 36.83   \n",
       "1      37.383333            30              50.27                 19.00   \n",
       "2      13.251667            10              23.08                 13.25   \n",
       "3      22.916667            21              39.13                 14.73   \n",
       "4       7.985000             3              15.00                  7.98   \n",
       "\n",
       "    HEADLAMP_ON_DURATION(min)  Total Charge Time (min)   CHARGE_AMOUNT (Wh)  \\\n",
       "0                        0.00                     20.0                 4129   \n",
       "1                        0.00                     30.0                 4765   \n",
       "2                        0.00                     20.0                 2834   \n",
       "3                       16.77                     30.0                15103   \n",
       "4                        0.00                     10.0                 1977   \n",
       "\n",
       "    END_ODO_ACTUAL   TRIP_DISTANCE(km)  PricePercentile  label_h  \n",
       "0            12427                  34         0.198817        2  \n",
       "1            12458                  30         0.284024        2  \n",
       "2            10172                   5         0.102959        2  \n",
       "3            27727                  15         0.969231        1  \n",
       "4            13276                   2         0.052071        2  "
      ]
     },
     "execution_count": 83,
     "metadata": {},
     "output_type": "execute_result"
    }
   ],
   "source": [
    "\n",
    "BS.head()"
   ]
  },
  {
   "cell_type": "code",
   "execution_count": 76,
   "metadata": {},
   "outputs": [
    {
     "data": {
      "text/html": [
       "<div>\n",
       "<style scoped>\n",
       "    .dataframe tbody tr th:only-of-type {\n",
       "        vertical-align: middle;\n",
       "    }\n",
       "\n",
       "    .dataframe tbody tr th {\n",
       "        vertical-align: top;\n",
       "    }\n",
       "\n",
       "    .dataframe thead th {\n",
       "        text-align: right;\n",
       "    }\n",
       "</style>\n",
       "<table border=\"1\" class=\"dataframe\">\n",
       "  <thead>\n",
       "    <tr style=\"text-align: right;\">\n",
       "      <th></th>\n",
       "      <th>TripTime(min)</th>\n",
       "      <th>Lost SOC (%)</th>\n",
       "      <th>PricePercentile</th>\n",
       "      <th>label_h</th>\n",
       "    </tr>\n",
       "  </thead>\n",
       "  <tbody>\n",
       "    <tr>\n",
       "      <th>0</th>\n",
       "      <td>36.835000</td>\n",
       "      <td>34</td>\n",
       "      <td>0.198817</td>\n",
       "      <td>1</td>\n",
       "    </tr>\n",
       "    <tr>\n",
       "      <th>1</th>\n",
       "      <td>37.383333</td>\n",
       "      <td>30</td>\n",
       "      <td>0.284024</td>\n",
       "      <td>1</td>\n",
       "    </tr>\n",
       "    <tr>\n",
       "      <th>2</th>\n",
       "      <td>13.251667</td>\n",
       "      <td>10</td>\n",
       "      <td>0.102959</td>\n",
       "      <td>0</td>\n",
       "    </tr>\n",
       "    <tr>\n",
       "      <th>3</th>\n",
       "      <td>22.916667</td>\n",
       "      <td>21</td>\n",
       "      <td>0.969231</td>\n",
       "      <td>4</td>\n",
       "    </tr>\n",
       "    <tr>\n",
       "      <th>4</th>\n",
       "      <td>7.985000</td>\n",
       "      <td>3</td>\n",
       "      <td>0.052071</td>\n",
       "      <td>0</td>\n",
       "    </tr>\n",
       "  </tbody>\n",
       "</table>\n",
       "</div>"
      ],
      "text/plain": [
       "   TripTime(min)  Lost SOC (%)  PricePercentile  label_h\n",
       "0      36.835000            34         0.198817        1\n",
       "1      37.383333            30         0.284024        1\n",
       "2      13.251667            10         0.102959        0\n",
       "3      22.916667            21         0.969231        4\n",
       "4       7.985000             3         0.052071        0"
      ]
     },
     "execution_count": 76,
     "metadata": {},
     "output_type": "execute_result"
    }
   ],
   "source": [
    "BS.head()"
   ]
  },
  {
   "cell_type": "code",
   "execution_count": 77,
   "metadata": {},
   "outputs": [
    {
     "data": {
      "image/png": "[encoded data removed]",
      "text/plain": [
       "<Figure size 1440x864 with 1 Axes>"
      ]
     },
     "metadata": {
      "needs_background": "light"
     },
     "output_type": "display_data"
    }
   ],
   "source": [
    "plt.rcParams['figure.figsize']=(20,12)\n",
    "fig2 = plt.figure()\n",
    "ax = p3.Axes3D(fig2)\n",
    "for l in np.unique(hierarchy.labels_):\n",
    "    ax.scatter(BS[BS['label_h']==l].iloc[:,0],BS[BS['label_h']==l].iloc[:,1],BS[BS['label_h']==l].iloc[:,2],color=plt.cm.jet(np.float(l) / np.max(hierarchy.labels_ + 1)))\n",
    "ax.set_xlabel('TripTime(min)')\n",
    "ax.set_ylabel('Lost SOC (%)')\n",
    "ax.set_zlabel('PricePercentile')\n",
    "# rotate the axes and update\n",
    "for angle in range(0, 360):\n",
    "    ax.view_init(90, 90)"
   ]
  },
  {
   "cell_type": "code",
   "execution_count": 105,
   "metadata": {},
   "outputs": [
    {
     "name": "stdout",
     "output_type": "stream",
     "text": [
      "silhouette_score\n"
     ]
    },
    {
     "ename": "ValueError",
     "evalue": "Found input variables with inconsistent numbers of samples: [105, 655]",
     "output_type": "error",
     "traceback": [
      "\u001b[1;31m---------------------------------------------------------------------------\u001b[0m",
      "\u001b[1;31mValueError\u001b[0m                                Traceback (most recent call last)",
      "\u001b[1;32m<ipython-input-105-3f71a9183ce0>\u001b[0m in \u001b[0;36m<module>\u001b[1;34m\u001b[0m\n\u001b[0;32m      1\u001b[0m \u001b[0mlabels\u001b[0m \u001b[1;33m=\u001b[0m \u001b[0mhierarchy\u001b[0m\u001b[1;33m.\u001b[0m\u001b[0mlabels_\u001b[0m\u001b[1;33m\u001b[0m\u001b[1;33m\u001b[0m\u001b[0m\n\u001b[0;32m      2\u001b[0m \u001b[0mprint\u001b[0m\u001b[1;33m(\u001b[0m\u001b[1;34m'silhouette_score'\u001b[0m\u001b[1;33m)\u001b[0m\u001b[1;33m\u001b[0m\u001b[1;33m\u001b[0m\u001b[0m\n\u001b[1;32m----> 3\u001b[1;33m \u001b[0mprint\u001b[0m\u001b[1;33m(\u001b[0m\u001b[1;34m' '\u001b[0m\u001b[1;33m,\u001b[0m\u001b[0mmetrics\u001b[0m\u001b[1;33m.\u001b[0m\u001b[0msilhouette_score\u001b[0m\u001b[1;33m(\u001b[0m\u001b[0mBS\u001b[0m\u001b[1;33m,\u001b[0m \u001b[0mlabels\u001b[0m\u001b[1;33m,\u001b[0m \u001b[0mmetric\u001b[0m\u001b[1;33m=\u001b[0m\u001b[1;34m'euclidean'\u001b[0m\u001b[1;33m)\u001b[0m \u001b[1;33m)\u001b[0m\u001b[1;33m\u001b[0m\u001b[1;33m\u001b[0m\u001b[0m\n\u001b[0m\u001b[0;32m      4\u001b[0m \u001b[0mprint\u001b[0m\u001b[1;33m(\u001b[0m\u001b[1;34m'calinski_harabaz_score'\u001b[0m\u001b[1;33m)\u001b[0m\u001b[1;33m\u001b[0m\u001b[1;33m\u001b[0m\u001b[0m\n\u001b[0;32m      5\u001b[0m \u001b[0mprint\u001b[0m\u001b[1;33m(\u001b[0m\u001b[1;34m' '\u001b[0m\u001b[1;33m,\u001b[0m\u001b[0mmetrics\u001b[0m\u001b[1;33m.\u001b[0m\u001b[0mcalinski_harabaz_score\u001b[0m\u001b[1;33m(\u001b[0m\u001b[0mBS\u001b[0m\u001b[1;33m,\u001b[0m \u001b[0mlabels\u001b[0m\u001b[1;33m)\u001b[0m\u001b[1;33m)\u001b[0m\u001b[1;33m\u001b[0m\u001b[1;33m\u001b[0m\u001b[0m\n",
      "\u001b[1;32mc:\\users\\taram\\appdata\\local\\programs\\python\\python37-32\\lib\\site-packages\\sklearn\\metrics\\cluster\\unsupervised.py\u001b[0m in \u001b[0;36msilhouette_score\u001b[1;34m(X, labels, metric, sample_size, random_state, **kwds)\u001b[0m\n\u001b[0;32m    115\u001b[0m         \u001b[1;32melse\u001b[0m\u001b[1;33m:\u001b[0m\u001b[1;33m\u001b[0m\u001b[1;33m\u001b[0m\u001b[0m\n\u001b[0;32m    116\u001b[0m             \u001b[0mX\u001b[0m\u001b[1;33m,\u001b[0m \u001b[0mlabels\u001b[0m \u001b[1;33m=\u001b[0m \u001b[0mX\u001b[0m\u001b[1;33m[\u001b[0m\u001b[0mindices\u001b[0m\u001b[1;33m]\u001b[0m\u001b[1;33m,\u001b[0m \u001b[0mlabels\u001b[0m\u001b[1;33m[\u001b[0m\u001b[0mindices\u001b[0m\u001b[1;33m]\u001b[0m\u001b[1;33m\u001b[0m\u001b[1;33m\u001b[0m\u001b[0m\n\u001b[1;32m--> 117\u001b[1;33m     \u001b[1;32mreturn\u001b[0m \u001b[0mnp\u001b[0m\u001b[1;33m.\u001b[0m\u001b[0mmean\u001b[0m\u001b[1;33m(\u001b[0m\u001b[0msilhouette_samples\u001b[0m\u001b[1;33m(\u001b[0m\u001b[0mX\u001b[0m\u001b[1;33m,\u001b[0m \u001b[0mlabels\u001b[0m\u001b[1;33m,\u001b[0m \u001b[0mmetric\u001b[0m\u001b[1;33m=\u001b[0m\u001b[0mmetric\u001b[0m\u001b[1;33m,\u001b[0m \u001b[1;33m**\u001b[0m\u001b[0mkwds\u001b[0m\u001b[1;33m)\u001b[0m\u001b[1;33m)\u001b[0m\u001b[1;33m\u001b[0m\u001b[1;33m\u001b[0m\u001b[0m\n\u001b[0m\u001b[0;32m    118\u001b[0m \u001b[1;33m\u001b[0m\u001b[0m\n\u001b[0;32m    119\u001b[0m \u001b[1;33m\u001b[0m\u001b[0m\n",
      "\u001b[1;32mc:\\users\\taram\\appdata\\local\\programs\\python\\python37-32\\lib\\site-packages\\sklearn\\metrics\\cluster\\unsupervised.py\u001b[0m in \u001b[0;36msilhouette_samples\u001b[1;34m(X, labels, metric, **kwds)\u001b[0m\n\u001b[0;32m    210\u001b[0m \u001b[1;33m\u001b[0m\u001b[0m\n\u001b[0;32m    211\u001b[0m     \"\"\"\n\u001b[1;32m--> 212\u001b[1;33m     \u001b[0mX\u001b[0m\u001b[1;33m,\u001b[0m \u001b[0mlabels\u001b[0m \u001b[1;33m=\u001b[0m \u001b[0mcheck_X_y\u001b[0m\u001b[1;33m(\u001b[0m\u001b[0mX\u001b[0m\u001b[1;33m,\u001b[0m \u001b[0mlabels\u001b[0m\u001b[1;33m,\u001b[0m \u001b[0maccept_sparse\u001b[0m\u001b[1;33m=\u001b[0m\u001b[1;33m[\u001b[0m\u001b[1;34m'csc'\u001b[0m\u001b[1;33m,\u001b[0m \u001b[1;34m'csr'\u001b[0m\u001b[1;33m]\u001b[0m\u001b[1;33m)\u001b[0m\u001b[1;33m\u001b[0m\u001b[1;33m\u001b[0m\u001b[0m\n\u001b[0m\u001b[0;32m    213\u001b[0m     \u001b[0mle\u001b[0m \u001b[1;33m=\u001b[0m \u001b[0mLabelEncoder\u001b[0m\u001b[1;33m(\u001b[0m\u001b[1;33m)\u001b[0m\u001b[1;33m\u001b[0m\u001b[1;33m\u001b[0m\u001b[0m\n\u001b[0;32m    214\u001b[0m     \u001b[0mlabels\u001b[0m \u001b[1;33m=\u001b[0m \u001b[0mle\u001b[0m\u001b[1;33m.\u001b[0m\u001b[0mfit_transform\u001b[0m\u001b[1;33m(\u001b[0m\u001b[0mlabels\u001b[0m\u001b[1;33m)\u001b[0m\u001b[1;33m\u001b[0m\u001b[1;33m\u001b[0m\u001b[0m\n",
      "\u001b[1;32mc:\\users\\taram\\appdata\\local\\programs\\python\\python37-32\\lib\\site-packages\\sklearn\\utils\\validation.py\u001b[0m in \u001b[0;36mcheck_X_y\u001b[1;34m(X, y, accept_sparse, accept_large_sparse, dtype, order, copy, force_all_finite, ensure_2d, allow_nd, multi_output, ensure_min_samples, ensure_min_features, y_numeric, warn_on_dtype, estimator)\u001b[0m\n\u001b[0;32m    764\u001b[0m         \u001b[0my\u001b[0m \u001b[1;33m=\u001b[0m \u001b[0my\u001b[0m\u001b[1;33m.\u001b[0m\u001b[0mastype\u001b[0m\u001b[1;33m(\u001b[0m\u001b[0mnp\u001b[0m\u001b[1;33m.\u001b[0m\u001b[0mfloat64\u001b[0m\u001b[1;33m)\u001b[0m\u001b[1;33m\u001b[0m\u001b[1;33m\u001b[0m\u001b[0m\n\u001b[0;32m    765\u001b[0m \u001b[1;33m\u001b[0m\u001b[0m\n\u001b[1;32m--> 766\u001b[1;33m     \u001b[0mcheck_consistent_length\u001b[0m\u001b[1;33m(\u001b[0m\u001b[0mX\u001b[0m\u001b[1;33m,\u001b[0m \u001b[0my\u001b[0m\u001b[1;33m)\u001b[0m\u001b[1;33m\u001b[0m\u001b[1;33m\u001b[0m\u001b[0m\n\u001b[0m\u001b[0;32m    767\u001b[0m \u001b[1;33m\u001b[0m\u001b[0m\n\u001b[0;32m    768\u001b[0m     \u001b[1;32mreturn\u001b[0m \u001b[0mX\u001b[0m\u001b[1;33m,\u001b[0m \u001b[0my\u001b[0m\u001b[1;33m\u001b[0m\u001b[1;33m\u001b[0m\u001b[0m\n",
      "\u001b[1;32mc:\\users\\taram\\appdata\\local\\programs\\python\\python37-32\\lib\\site-packages\\sklearn\\utils\\validation.py\u001b[0m in \u001b[0;36mcheck_consistent_length\u001b[1;34m(*arrays)\u001b[0m\n\u001b[0;32m    233\u001b[0m     \u001b[1;32mif\u001b[0m \u001b[0mlen\u001b[0m\u001b[1;33m(\u001b[0m\u001b[0muniques\u001b[0m\u001b[1;33m)\u001b[0m \u001b[1;33m>\u001b[0m \u001b[1;36m1\u001b[0m\u001b[1;33m:\u001b[0m\u001b[1;33m\u001b[0m\u001b[1;33m\u001b[0m\u001b[0m\n\u001b[0;32m    234\u001b[0m         raise ValueError(\"Found input variables with inconsistent numbers of\"\n\u001b[1;32m--> 235\u001b[1;33m                          \" samples: %r\" % [int(l) for l in lengths])\n\u001b[0m\u001b[0;32m    236\u001b[0m \u001b[1;33m\u001b[0m\u001b[0m\n\u001b[0;32m    237\u001b[0m \u001b[1;33m\u001b[0m\u001b[0m\n",
      "\u001b[1;31mValueError\u001b[0m: Found input variables with inconsistent numbers of samples: [105, 655]"
     ]
    }
   ],
   "source": [
    "labels = hierarchy.labels_\n",
    "print('silhouette_score')\n",
    "print(' ',metrics.silhouette_score(BS, labels, metric='euclidean') ) \n",
    "print('calinski_harabaz_score')\n",
    "print(' ',metrics.calinski_harabaz_score(BS, labels))\n",
    "print('davies_bouldin_score')\n",
    "print(' ',metrics.davies_bouldin_score(BS, labels) ) "
   ]
  },
  {
   "cell_type": "code",
   "execution_count": null,
   "metadata": {},
   "outputs": [],
   "source": []
  }
 ],
 "metadata": {
  "kernelspec": {
   "display_name": "Python 3",
   "language": "python",
   "name": "python3"
  },
  "language_info": {
   "codemirror_mode": {
    "name": "ipython",
    "version": 3
   },
   "file_extension": ".py",
   "mimetype": "text/x-python",
   "name": "python",
   "nbconvert_exporter": "python",
   "pygments_lexer": "ipython3",
   "version": "3.7.2"
  }
 },
 "nbformat": 4,
 "nbformat_minor": 2
}
